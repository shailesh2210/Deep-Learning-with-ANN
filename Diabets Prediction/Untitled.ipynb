{
 "cells": [
  {
   "cell_type": "code",
   "execution_count": 1,
   "id": "16d80e75",
   "metadata": {},
   "outputs": [],
   "source": [
    "import pandas as pd\n",
    "import numpy as np\n",
    "from sklearn.model_selection import train_test_split\n",
    "from sklearn.preprocessing import StandardScaler\n",
    "import tensorflow as tf\n",
    "from tensorflow import keras\n",
    "from keras import Sequential\n",
    "from keras.layers import Dense"
   ]
  },
  {
   "cell_type": "code",
   "execution_count": 2,
   "id": "671d7ebc",
   "metadata": {},
   "outputs": [],
   "source": [
    "df = pd.read_csv(\"diabetes.csv\")"
   ]
  },
  {
   "cell_type": "code",
   "execution_count": 3,
   "id": "6324d7ec",
   "metadata": {},
   "outputs": [
    {
     "data": {
      "text/html": [
       "<div>\n",
       "<style scoped>\n",
       "    .dataframe tbody tr th:only-of-type {\n",
       "        vertical-align: middle;\n",
       "    }\n",
       "\n",
       "    .dataframe tbody tr th {\n",
       "        vertical-align: top;\n",
       "    }\n",
       "\n",
       "    .dataframe thead th {\n",
       "        text-align: right;\n",
       "    }\n",
       "</style>\n",
       "<table border=\"1\" class=\"dataframe\">\n",
       "  <thead>\n",
       "    <tr style=\"text-align: right;\">\n",
       "      <th></th>\n",
       "      <th>Pregnancies</th>\n",
       "      <th>Glucose</th>\n",
       "      <th>BloodPressure</th>\n",
       "      <th>SkinThickness</th>\n",
       "      <th>Insulin</th>\n",
       "      <th>BMI</th>\n",
       "      <th>DiabetesPedigreeFunction</th>\n",
       "      <th>Age</th>\n",
       "      <th>Outcome</th>\n",
       "    </tr>\n",
       "  </thead>\n",
       "  <tbody>\n",
       "    <tr>\n",
       "      <th>0</th>\n",
       "      <td>6</td>\n",
       "      <td>148</td>\n",
       "      <td>72</td>\n",
       "      <td>35</td>\n",
       "      <td>0</td>\n",
       "      <td>33.6</td>\n",
       "      <td>0.627</td>\n",
       "      <td>50</td>\n",
       "      <td>1</td>\n",
       "    </tr>\n",
       "    <tr>\n",
       "      <th>1</th>\n",
       "      <td>1</td>\n",
       "      <td>85</td>\n",
       "      <td>66</td>\n",
       "      <td>29</td>\n",
       "      <td>0</td>\n",
       "      <td>26.6</td>\n",
       "      <td>0.351</td>\n",
       "      <td>31</td>\n",
       "      <td>0</td>\n",
       "    </tr>\n",
       "    <tr>\n",
       "      <th>2</th>\n",
       "      <td>8</td>\n",
       "      <td>183</td>\n",
       "      <td>64</td>\n",
       "      <td>0</td>\n",
       "      <td>0</td>\n",
       "      <td>23.3</td>\n",
       "      <td>0.672</td>\n",
       "      <td>32</td>\n",
       "      <td>1</td>\n",
       "    </tr>\n",
       "    <tr>\n",
       "      <th>3</th>\n",
       "      <td>1</td>\n",
       "      <td>89</td>\n",
       "      <td>66</td>\n",
       "      <td>23</td>\n",
       "      <td>94</td>\n",
       "      <td>28.1</td>\n",
       "      <td>0.167</td>\n",
       "      <td>21</td>\n",
       "      <td>0</td>\n",
       "    </tr>\n",
       "    <tr>\n",
       "      <th>4</th>\n",
       "      <td>0</td>\n",
       "      <td>137</td>\n",
       "      <td>40</td>\n",
       "      <td>35</td>\n",
       "      <td>168</td>\n",
       "      <td>43.1</td>\n",
       "      <td>2.288</td>\n",
       "      <td>33</td>\n",
       "      <td>1</td>\n",
       "    </tr>\n",
       "  </tbody>\n",
       "</table>\n",
       "</div>"
      ],
      "text/plain": [
       "   Pregnancies  Glucose  BloodPressure  SkinThickness  Insulin   BMI  \\\n",
       "0            6      148             72             35        0  33.6   \n",
       "1            1       85             66             29        0  26.6   \n",
       "2            8      183             64              0        0  23.3   \n",
       "3            1       89             66             23       94  28.1   \n",
       "4            0      137             40             35      168  43.1   \n",
       "\n",
       "   DiabetesPedigreeFunction  Age  Outcome  \n",
       "0                     0.627   50        1  \n",
       "1                     0.351   31        0  \n",
       "2                     0.672   32        1  \n",
       "3                     0.167   21        0  \n",
       "4                     2.288   33        1  "
      ]
     },
     "execution_count": 3,
     "metadata": {},
     "output_type": "execute_result"
    }
   ],
   "source": [
    "df.head()"
   ]
  },
  {
   "cell_type": "code",
   "execution_count": 4,
   "id": "01a96971",
   "metadata": {},
   "outputs": [
    {
     "data": {
      "text/plain": [
       "(768, 9)"
      ]
     },
     "execution_count": 4,
     "metadata": {},
     "output_type": "execute_result"
    }
   ],
   "source": [
    "df.shape"
   ]
  },
  {
   "cell_type": "code",
   "execution_count": 5,
   "id": "04e5a86d",
   "metadata": {},
   "outputs": [
    {
     "name": "stdout",
     "output_type": "stream",
     "text": [
      "<class 'pandas.core.frame.DataFrame'>\n",
      "RangeIndex: 768 entries, 0 to 767\n",
      "Data columns (total 9 columns):\n",
      " #   Column                    Non-Null Count  Dtype  \n",
      "---  ------                    --------------  -----  \n",
      " 0   Pregnancies               768 non-null    int64  \n",
      " 1   Glucose                   768 non-null    int64  \n",
      " 2   BloodPressure             768 non-null    int64  \n",
      " 3   SkinThickness             768 non-null    int64  \n",
      " 4   Insulin                   768 non-null    int64  \n",
      " 5   BMI                       768 non-null    float64\n",
      " 6   DiabetesPedigreeFunction  768 non-null    float64\n",
      " 7   Age                       768 non-null    int64  \n",
      " 8   Outcome                   768 non-null    int64  \n",
      "dtypes: float64(2), int64(7)\n",
      "memory usage: 54.1 KB\n"
     ]
    }
   ],
   "source": [
    "df.info()"
   ]
  },
  {
   "cell_type": "code",
   "execution_count": 6,
   "id": "cbd88122",
   "metadata": {},
   "outputs": [
    {
     "data": {
      "text/plain": [
       "Pregnancies                 0\n",
       "Glucose                     0\n",
       "BloodPressure               0\n",
       "SkinThickness               0\n",
       "Insulin                     0\n",
       "BMI                         0\n",
       "DiabetesPedigreeFunction    0\n",
       "Age                         0\n",
       "Outcome                     0\n",
       "dtype: int64"
      ]
     },
     "execution_count": 6,
     "metadata": {},
     "output_type": "execute_result"
    }
   ],
   "source": [
    "df.isnull().sum()"
   ]
  },
  {
   "cell_type": "code",
   "execution_count": 7,
   "id": "77629b01",
   "metadata": {},
   "outputs": [],
   "source": [
    "x = df.drop(\"Outcome\", axis=1)\n",
    "y = df[\"Outcome\"]"
   ]
  },
  {
   "cell_type": "code",
   "execution_count": 8,
   "id": "1a636c2c",
   "metadata": {},
   "outputs": [],
   "source": [
    "x_train , x_test , y_train , y_test = train_test_split(x , y , test_size=0.2, random_state=42)"
   ]
  },
  {
   "cell_type": "code",
   "execution_count": 9,
   "id": "e6c57b42",
   "metadata": {},
   "outputs": [],
   "source": [
    "scaler = StandardScaler()"
   ]
  },
  {
   "cell_type": "code",
   "execution_count": 10,
   "id": "975cc844",
   "metadata": {},
   "outputs": [],
   "source": [
    "x_train_scaled = scaler.fit_transform(x_train)\n",
    "x_test_scaled = scaler.transform(x_test)"
   ]
  },
  {
   "cell_type": "code",
   "execution_count": 11,
   "id": "5e0ef94b",
   "metadata": {},
   "outputs": [],
   "source": [
    "model = Sequential()"
   ]
  },
  {
   "cell_type": "code",
   "execution_count": 29,
   "id": "ba027f39",
   "metadata": {},
   "outputs": [],
   "source": [
    "model.add(Dense(8 , activation = \"relu\" , input_dim = 8))\n",
    "model.add(Dense(8 , activation = \"relu\"))\n",
    "model.add(Dense(1,  activation = \"sigmoid\"))"
   ]
  },
  {
   "cell_type": "code",
   "execution_count": 30,
   "id": "4f1d82fb",
   "metadata": {},
   "outputs": [],
   "source": [
    "model.compile(loss=\"binary_crossentropy\", optimizer = \"Adam\",  metrics=[\"accuracy\"])"
   ]
  },
  {
   "cell_type": "code",
   "execution_count": 31,
   "id": "49b4c2cc",
   "metadata": {},
   "outputs": [],
   "source": [
    "from keras.callbacks import EarlyStopping"
   ]
  },
  {
   "cell_type": "code",
   "execution_count": 32,
   "id": "44e6eccc",
   "metadata": {},
   "outputs": [],
   "source": [
    "callbacl = EarlyStopping(\n",
    "    monitor='val_loss',\n",
    "    min_delta=0.3,\n",
    "    patience=0,\n",
    "    verbose=0.2,\n",
    ")"
   ]
  },
  {
   "cell_type": "code",
   "execution_count": 33,
   "id": "7e4fb926",
   "metadata": {
    "scrolled": false
   },
   "outputs": [
    {
     "name": "stdout",
     "output_type": "stream",
     "text": [
      "Epoch 1/50\n",
      "62/62 [==============================] - 1s 3ms/step - loss: 0.6909 - accuracy: 0.5195\n",
      "Epoch 2/50\n",
      "62/62 [==============================] - 0s 3ms/step - loss: 0.6566 - accuracy: 0.6531\n",
      "Epoch 3/50\n",
      "62/62 [==============================] - 0s 3ms/step - loss: 0.6470 - accuracy: 0.6531\n",
      "Epoch 4/50\n",
      "62/62 [==============================] - 0s 3ms/step - loss: 0.6462 - accuracy: 0.6531\n",
      "Epoch 5/50\n",
      "62/62 [==============================] - 0s 3ms/step - loss: 0.6461 - accuracy: 0.6531\n",
      "Epoch 6/50\n",
      "62/62 [==============================] - 0s 3ms/step - loss: 0.6460 - accuracy: 0.6531\n",
      "Epoch 7/50\n",
      "62/62 [==============================] - 0s 4ms/step - loss: 0.6460 - accuracy: 0.6531\n",
      "Epoch 8/50\n",
      "62/62 [==============================] - 0s 3ms/step - loss: 0.6461 - accuracy: 0.6531\n",
      "Epoch 9/50\n",
      "62/62 [==============================] - 0s 3ms/step - loss: 0.6458 - accuracy: 0.6531\n",
      "Epoch 10/50\n",
      "62/62 [==============================] - 0s 4ms/step - loss: 0.6459 - accuracy: 0.6531\n",
      "Epoch 11/50\n",
      "62/62 [==============================] - 0s 3ms/step - loss: 0.6463 - accuracy: 0.6531\n",
      "Epoch 12/50\n",
      "62/62 [==============================] - 0s 3ms/step - loss: 0.6457 - accuracy: 0.6531\n",
      "Epoch 13/50\n",
      "62/62 [==============================] - 0s 3ms/step - loss: 0.6462 - accuracy: 0.6531\n",
      "Epoch 14/50\n",
      "62/62 [==============================] - 0s 4ms/step - loss: 0.6458 - accuracy: 0.6531\n",
      "Epoch 15/50\n",
      "62/62 [==============================] - 0s 3ms/step - loss: 0.6460 - accuracy: 0.6531\n",
      "Epoch 16/50\n",
      "62/62 [==============================] - 0s 3ms/step - loss: 0.6458 - accuracy: 0.6531\n",
      "Epoch 17/50\n",
      "62/62 [==============================] - 0s 3ms/step - loss: 0.6460 - accuracy: 0.6531\n",
      "Epoch 18/50\n",
      "62/62 [==============================] - 0s 4ms/step - loss: 0.6465 - accuracy: 0.6531\n",
      "Epoch 19/50\n",
      "62/62 [==============================] - 0s 3ms/step - loss: 0.6466 - accuracy: 0.6531\n",
      "Epoch 20/50\n",
      "62/62 [==============================] - 0s 4ms/step - loss: 0.6460 - accuracy: 0.6531\n",
      "Epoch 21/50\n",
      "62/62 [==============================] - 0s 3ms/step - loss: 0.6464 - accuracy: 0.6531\n",
      "Epoch 22/50\n",
      "62/62 [==============================] - 0s 3ms/step - loss: 0.6459 - accuracy: 0.6531\n",
      "Epoch 23/50\n",
      "62/62 [==============================] - 0s 3ms/step - loss: 0.6468 - accuracy: 0.6531\n",
      "Epoch 24/50\n",
      "62/62 [==============================] - 0s 3ms/step - loss: 0.6460 - accuracy: 0.6531\n",
      "Epoch 25/50\n",
      "62/62 [==============================] - 0s 3ms/step - loss: 0.6462 - accuracy: 0.6531\n",
      "Epoch 26/50\n",
      "62/62 [==============================] - 0s 3ms/step - loss: 0.6458 - accuracy: 0.6531\n",
      "Epoch 27/50\n",
      "62/62 [==============================] - 0s 3ms/step - loss: 0.6465 - accuracy: 0.6531\n",
      "Epoch 28/50\n",
      "62/62 [==============================] - 0s 3ms/step - loss: 0.6467 - accuracy: 0.6531\n",
      "Epoch 29/50\n",
      "62/62 [==============================] - 0s 3ms/step - loss: 0.6461 - accuracy: 0.6531\n",
      "Epoch 30/50\n",
      "62/62 [==============================] - 0s 3ms/step - loss: 0.6460 - accuracy: 0.6531\n",
      "Epoch 31/50\n",
      "62/62 [==============================] - 0s 3ms/step - loss: 0.6459 - accuracy: 0.6531\n",
      "Epoch 32/50\n",
      "62/62 [==============================] - 0s 3ms/step - loss: 0.6463 - accuracy: 0.6531\n",
      "Epoch 33/50\n",
      "62/62 [==============================] - 0s 3ms/step - loss: 0.6457 - accuracy: 0.6531\n",
      "Epoch 34/50\n",
      "62/62 [==============================] - 0s 3ms/step - loss: 0.6462 - accuracy: 0.6531\n",
      "Epoch 35/50\n",
      "62/62 [==============================] - 0s 3ms/step - loss: 0.6463 - accuracy: 0.6531\n",
      "Epoch 36/50\n",
      "62/62 [==============================] - 0s 4ms/step - loss: 0.6466 - accuracy: 0.6531\n",
      "Epoch 37/50\n",
      "62/62 [==============================] - 0s 3ms/step - loss: 0.6460 - accuracy: 0.6531\n",
      "Epoch 38/50\n",
      "62/62 [==============================] - 0s 3ms/step - loss: 0.6460 - accuracy: 0.6531\n",
      "Epoch 39/50\n",
      "62/62 [==============================] - 0s 3ms/step - loss: 0.6466 - accuracy: 0.6531\n",
      "Epoch 40/50\n",
      "62/62 [==============================] - 0s 3ms/step - loss: 0.6460 - accuracy: 0.6531\n",
      "Epoch 41/50\n",
      "62/62 [==============================] - 0s 3ms/step - loss: 0.6458 - accuracy: 0.6531\n",
      "Epoch 42/50\n",
      "62/62 [==============================] - 0s 4ms/step - loss: 0.6459 - accuracy: 0.6531\n",
      "Epoch 43/50\n",
      "62/62 [==============================] - 0s 3ms/step - loss: 0.6460 - accuracy: 0.6531\n",
      "Epoch 44/50\n",
      "62/62 [==============================] - 0s 4ms/step - loss: 0.6463 - accuracy: 0.6531\n",
      "Epoch 45/50\n",
      "62/62 [==============================] - 0s 3ms/step - loss: 0.6461 - accuracy: 0.6531\n",
      "Epoch 46/50\n",
      "62/62 [==============================] - 0s 3ms/step - loss: 0.6459 - accuracy: 0.6531\n",
      "Epoch 47/50\n",
      "62/62 [==============================] - 0s 3ms/step - loss: 0.6458 - accuracy: 0.6531\n",
      "Epoch 48/50\n",
      "62/62 [==============================] - 0s 3ms/step - loss: 0.6462 - accuracy: 0.6531\n",
      "Epoch 49/50\n",
      "62/62 [==============================] - 0s 3ms/step - loss: 0.6457 - accuracy: 0.6531\n",
      "Epoch 50/50\n",
      "62/62 [==============================] - 0s 4ms/step - loss: 0.6458 - accuracy: 0.6531\n"
     ]
    },
    {
     "data": {
      "text/plain": [
       "<keras.callbacks.History at 0x1f64ee6e640>"
      ]
     },
     "execution_count": 33,
     "metadata": {},
     "output_type": "execute_result"
    }
   ],
   "source": [
    "model.fit(x_train_scaled , y_train , epochs=50 , verbose=1, batch_size = 10)"
   ]
  },
  {
   "cell_type": "code",
   "execution_count": 34,
   "id": "d2308937",
   "metadata": {},
   "outputs": [
    {
     "name": "stdout",
     "output_type": "stream",
     "text": [
      "5/5 [==============================] - 0s 3ms/step - loss: 0.6519 - accuracy: 0.6429\n"
     ]
    }
   ],
   "source": [
    "score = model.evaluate(x_test , y_test)"
   ]
  },
  {
   "cell_type": "code",
   "execution_count": 35,
   "id": "bcec55ae",
   "metadata": {},
   "outputs": [
    {
     "data": {
      "text/plain": [
       "[0.6518699526786804, 0.6428571343421936]"
      ]
     },
     "execution_count": 35,
     "metadata": {},
     "output_type": "execute_result"
    }
   ],
   "source": [
    "score"
   ]
  },
  {
   "cell_type": "code",
   "execution_count": null,
   "id": "17d14fdd",
   "metadata": {},
   "outputs": [],
   "source": []
  }
 ],
 "metadata": {
  "kernelspec": {
   "display_name": "Python 3",
   "language": "python",
   "name": "python3"
  },
  "language_info": {
   "codemirror_mode": {
    "name": "ipython",
    "version": 3
   },
   "file_extension": ".py",
   "mimetype": "text/x-python",
   "name": "python",
   "nbconvert_exporter": "python",
   "pygments_lexer": "ipython3",
   "version": "3.8.8"
  }
 },
 "nbformat": 4,
 "nbformat_minor": 5
}
